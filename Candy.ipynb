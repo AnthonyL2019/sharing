{
 "cells": [
  {
   "cell_type": "code",
   "execution_count": 9,
   "metadata": {},
   "outputs": [],
   "source": [
    "import pandas as pd\n",
    "\n",
    "#import candy data\n",
    "df = pd.read_csv(\"candyhierarchy2017UTF8.csv\")"
   ]
  },
  {
   "cell_type": "code",
   "execution_count": 11,
   "metadata": {},
   "outputs": [],
   "source": [
    "#Only keep the candy columns\n",
    "df2 = df.iloc[:,6:109]\n",
    "df2.head()\n",
    "\n",
    "#remove the Q6 from the column names\n",
    "df2.columns = [name.replace('Q6 | ', '') for name in df2.columns.values.tolist()]\n",
    "\n",
    "#count the occurances of \"Despair\", \"Joy\" and \"Meh\" in each column\n",
    "ratings = df2.apply(pd.Series.value_counts)"
   ]
  },
  {
   "cell_type": "code",
   "execution_count": 12,
   "metadata": {},
   "outputs": [],
   "source": [
    "#calculate joy - despair for each column\n",
    "l = [ratings[col][1]-ratings[col][0] for col in ratings]\n",
    "s = pd.Series(l, index=ratings.columns, name=\"SCORE\")\n",
    "ratings = ratings.drop(['JOY','DESPAIR','MEH'])\n",
    "ratings = ratings.append(s)"
   ]
  },
  {
   "cell_type": "code",
   "execution_count": 13,
   "metadata": {},
   "outputs": [
    {
     "data": {
      "text/html": [
       "<div>\n",
       "<style scoped>\n",
       "    .dataframe tbody tr th:only-of-type {\n",
       "        vertical-align: middle;\n",
       "    }\n",
       "\n",
       "    .dataframe tbody tr th {\n",
       "        vertical-align: top;\n",
       "    }\n",
       "\n",
       "    .dataframe thead th {\n",
       "        text-align: right;\n",
       "    }\n",
       "</style>\n",
       "<table border=\"1\" class=\"dataframe\">\n",
       "  <thead>\n",
       "    <tr style=\"text-align: right;\">\n",
       "      <th></th>\n",
       "      <th>SCORE</th>\n",
       "    </tr>\n",
       "  </thead>\n",
       "  <tbody>\n",
       "    <tr>\n",
       "      <th>Any full-sized candy bar</th>\n",
       "      <td>1542</td>\n",
       "    </tr>\n",
       "    <tr>\n",
       "      <th>ReeseÕs Peanut Butter Cups</th>\n",
       "      <td>1403</td>\n",
       "    </tr>\n",
       "    <tr>\n",
       "      <th>Kit Kat</th>\n",
       "      <td>1395</td>\n",
       "    </tr>\n",
       "    <tr>\n",
       "      <th>Cash, or other forms of legal tender</th>\n",
       "      <td>1374</td>\n",
       "    </tr>\n",
       "    <tr>\n",
       "      <th>Twix</th>\n",
       "      <td>1342</td>\n",
       "    </tr>\n",
       "  </tbody>\n",
       "</table>\n",
       "</div>"
      ],
      "text/plain": [
       "                                      SCORE\n",
       "Any full-sized candy bar               1542\n",
       "ReeseÕs Peanut Butter Cups             1403\n",
       "Kit Kat                                1395\n",
       "Cash, or other forms of legal tender   1374\n",
       "Twix                                   1342"
      ]
     },
     "execution_count": 13,
     "metadata": {},
     "output_type": "execute_result"
    }
   ],
   "source": [
    "#transpose the matrix so the candies are the rows\n",
    "ratings=ratings.T\n",
    "\n",
    "#sort the column from most joyful to least\n",
    "#show the top 5 candies\n",
    "ratings = ratings.sort_values(by=['SCORE'], ascending=[False])\n",
    "ratings.head()"
   ]
  },
  {
   "cell_type": "code",
   "execution_count": 2,
   "metadata": {},
   "outputs": [],
   "source": [
    "#For each survey participant, count the number of candies that bring despair and subtract this from the number of candies\n",
    "#that bring joy.  Call this the \"love of candy\".  Group participants into male and female.\n",
    "\n",
    "from collections import Counter\n",
    "\n",
    "def get_counts(gender):\n",
    "    return [Counter(df.iloc[i,6:109]) if df.iloc[i,2]==gender else -1 for i in range(len(df))]\n",
    "\n",
    "def calculate_love_of_candy(counts):\n",
    "    summary = []\n",
    "    for i in range(len(counts)):\n",
    "        if counts[i]!=-1:\n",
    "            summary.append(counts[i]['JOY']-counts[i]['DESPAIR'])\n",
    "    return summary\n",
    "        \n",
    "male_love_of_candy = calculate_love_of_candy(get_counts(\"Male\"))\n",
    "female_love_of_candy = calculate_love_of_candy(get_counts(\"Female\"))"
   ]
  },
  {
   "cell_type": "code",
   "execution_count": 3,
   "metadata": {},
   "outputs": [
    {
     "name": "stdout",
     "output_type": "stream",
     "text": [
      "male love of candy mean: 2.052488070892979\n",
      "female love of candy mean: 3.0762812872467222\n",
      "male love of candy standard deviation: 19.561268327144244\n",
      "female love of candy standard deviation: 18.742098350873498\n"
     ]
    }
   ],
   "source": [
    "#Calculate the mean love of candy for males and females, as well as the standard deviation in love of candy\n",
    "\n",
    "def mean(summary):\n",
    "    return sum(summary)/len(summary)\n",
    "\n",
    "def stdev(summary):\n",
    "    m = mean(summary)\n",
    "    variance = sum([(x_i - m)**2 for x_i in summary]) / (len(summary)-1)\n",
    "    return variance**0.5\n",
    "\n",
    "print(\"male love of candy mean: \" + str(mean(male_love_of_candy)))\n",
    "print(\"female love of candy mean: \" + str(mean(female_love_of_candy)))\n",
    "print(\"male love of candy standard deviation: \" + str(stdev(male_love_of_candy)))\n",
    "print(\"female love of candy standard deviation: \" + str(stdev(female_love_of_candy)))"
   ]
  },
  {
   "cell_type": "code",
   "execution_count": 5,
   "metadata": {},
   "outputs": [
    {
     "name": "stdout",
     "output_type": "stream",
     "text": [
      "t statistic: 1.241982531670616\n",
      "degress of freedom: 2304\n",
      "p value: 0.214363\n",
      "The results show no significant difference in the love of candy between males and females\n"
     ]
    }
   ],
   "source": [
    "#Run a t test to see if there is any significant difference in the love_of_candy between males and females\n",
    "\n",
    "t_stat = (mean(female_love_of_candy) - mean(male_love_of_candy)) / (stdev(male_love_of_candy)**2/len(male_love_of_candy) + stdev(female_love_of_candy)**2/len(female_love_of_candy))**0.5\n",
    "d_of_f = len(male_love_of_candy)+len(female_love_of_candy)-2\n",
    "\n",
    "print(\"t statistic: \" + str(t_stat))\n",
    "print(\"degress of freedom: \" + str(d_of_f))\n",
    "print(\"p value: 0.214363\")\n",
    "print(\"The results show no significant difference in the love of candy between males and females\")"
   ]
  },
  {
   "cell_type": "code",
   "execution_count": null,
   "metadata": {},
   "outputs": [],
   "source": []
  }
 ],
 "metadata": {
  "kernelspec": {
   "display_name": "Python 3",
   "language": "python",
   "name": "python3"
  },
  "language_info": {
   "codemirror_mode": {
    "name": "ipython",
    "version": 3
   },
   "file_extension": ".py",
   "mimetype": "text/x-python",
   "name": "python",
   "nbconvert_exporter": "python",
   "pygments_lexer": "ipython3",
   "version": "3.7.3"
  }
 },
 "nbformat": 4,
 "nbformat_minor": 2
}
